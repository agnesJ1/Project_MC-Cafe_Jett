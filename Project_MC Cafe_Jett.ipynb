{
 "cells": [
  {
   "cell_type": "code",
   "execution_count": 2,
   "id": "9e310045",
   "metadata": {},
   "outputs": [],
   "source": [
    "#Your instructors love coffee so much that they decided to open a cafe! Of course, we will need the help of our students to develop the ordering app that the customers can use.\n",
    "#On the cafe menu, there are three categories for the items we sell - coffee, tea, and pastries.\n",
    "\n",
    "#Coffee\n",
    "#Espresso - $1.50\n",
    "#Americano - $2.00\n",
    "#Caffe latte - $2.25\n",
    "#Mocha - $2.25\n",
    "#Cappucino - $2.50\n",
    "#Macchiato - $2.50\n",
    "\n",
    "#Tea\n",
    "#Green tea - $2.00\n",
    "#Oolong tea - $2.25\n",
    "#Black tea - $2.25\n",
    "#Earl Grey - $2.50\n",
    "#Matcha - $2.50\n",
    "\n",
    "#Pastries\n",
    "#Croissant - $5.50\n",
    "#Cinnamon roll - $4.50\n",
    "#Banana bread - $4.25\n",
    "#Pumpkin bread - $3.75\n",
    "#Sticky bun - $4.25\n",
    "#Apple turnover - $3.75\n",
    "\n",
    "#When your program first starts, you must greet the customers by saying, \"Welcome to MC Cafe!\" Then ask the customer if they would like to see the menu. If yes, then display the menu items and prices.\n",
    "\n",
    "#Then ask the user if they would like to order. If yes, then prompt the customer to enter an item and the quantity that they want. After they input an item, then ask them if they would like to order another item.\n",
    "\n",
    "#Once your customers are finished with the order input, then display an order receipt that lists the items that they ordered and the quantity. Then at the bottom of the receipt, display the subtotal (the amount of the item before tax), the amount in sales tax (our business is in Maryland, so state tax is 6%), and finally their grand total (subtotal plus sales tax).\n",
    "\n",
    "#At the end of their transaction, display a message to our customers saying, \"Thank you for visiting MC Cafe!\"\n",
    "\n",
    "#BONUS: Add a feature that tells a customer when an item they attempted to order is not on the menu."
   ]
  },
  {
   "cell_type": "code",
   "execution_count": 7,
   "id": "19837a23",
   "metadata": {},
   "outputs": [
    {
     "name": "stdout",
     "output_type": "stream",
     "text": [
      "Welcome to MC Cafe!\n",
      "Would you like the menu?\n"
     ]
    }
   ],
   "source": [
    "Coffee = [\"Espresso\", \"Americano\", \"Caffe Latte\", \"Mocha\", \"Cappucino\", \"macchiato\"]\n",
    "price1 = [1.5, 2.00, 2.25, 2.50, 2.50]\n",
    "Tea = [\"Green Tea\", \"Oolong tea\", \"Black tea\", \"Earl Grey\", \"Matcha\"]\n",
    "price2 = [2.00, 2.25, 2.25, 2.50, 2.50]\n",
    "Pastries = [\"Croissant\", \"Cinnamon roll\", \"banana bread\", \"Pumpkin bread\", \"Sticky bun\", \"Apple turnover\"]\n",
    "price3 = [5.50, 4.50, 4.25, 3.75, 4.25, 3.75]\n",
    "\n",
    "print(\"Welcome to MC Cafe!\")\n",
    "print(\"Would you like the menu?\")\n"
   ]
  },
  {
   "cell_type": "code",
   "execution_count": null,
   "id": "510eb433",
   "metadata": {},
   "outputs": [],
   "source": []
  }
 ],
 "metadata": {
  "kernelspec": {
   "display_name": "Python 3",
   "language": "python",
   "name": "python3"
  },
  "language_info": {
   "codemirror_mode": {
    "name": "ipython",
    "version": 3
   },
   "file_extension": ".py",
   "mimetype": "text/x-python",
   "name": "python",
   "nbconvert_exporter": "python",
   "pygments_lexer": "ipython3",
   "version": "3.8.8"
  }
 },
 "nbformat": 4,
 "nbformat_minor": 5
}
